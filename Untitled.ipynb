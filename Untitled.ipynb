{
 "cells": [
  {
   "cell_type": "code",
   "execution_count": 1,
   "id": "eee83541",
   "metadata": {},
   "outputs": [],
   "source": [
    "import pandas as pd"
   ]
  },
  {
   "cell_type": "code",
   "execution_count": 7,
   "id": "c1ae89a0",
   "metadata": {},
   "outputs": [],
   "source": [
    "import numpy as np"
   ]
  },
  {
   "cell_type": "code",
   "execution_count": 168,
   "id": "152308df",
   "metadata": {},
   "outputs": [
    {
     "name": "stderr",
     "output_type": "stream",
     "text": [
      "/var/folders/pj/k39rkm7n70zfpx2h1pd48nyh0000gn/T/ipykernel_29922/2459249207.py:7: FutureWarning: The default value of regex will change from True to False in a future version. In addition, single character regular expressions will *not* be treated as literal strings when regex=True.\n",
      "  dat.loc[:,'principales_palabras_clave']=dat.principales_palabras_clave.replace(r'\\s+', ' ',\n"
     ]
    }
   ],
   "source": [
    "dat=pd.read_fwf('./clusters_report.txt', skiprows=4, \n",
    "                names=['cluster', 'cantidad_de_palabras_clave', \n",
    "                       'porcentaje_de_palabras_clave', 'principales_palabras_clave'])\n",
    "\n",
    "dat.loc[:,'principales_palabras_clave']=dat.fillna(method='ffill').groupby('cluster')['principales_palabras_clave'].transform(lambda x: ' '.join(x))\n",
    "dat=dat.dropna().reset_index()\n",
    "dat.loc[:,'principales_palabras_clave']=dat.principales_palabras_clave.replace(r'\\s+', ' ', \n",
    "                                                                               regex=True).str.replace('.','')\n",
    "dat=dat.drop(columns='index')\n"
   ]
  },
  {
   "cell_type": "code",
   "execution_count": 178,
   "id": "6a3ebfe6",
   "metadata": {},
   "outputs": [],
   "source": [
    "dat['porcentaje_de_palabras_clave']=dat['porcentaje_de_palabras_clave'].str[:-2].str.replace(',','.').astype(float)"
   ]
  },
  {
   "cell_type": "code",
   "execution_count": 179,
   "id": "095d8bb7",
   "metadata": {},
   "outputs": [
    {
     "data": {
      "text/plain": [
       "[15.9, 15.4, 13.4, 9.1, 7.9, 7.7, 6.3, 5.7, 5.3, 4.1, 3.3, 3.3, 2.6]"
      ]
     },
     "execution_count": 179,
     "metadata": {},
     "output_type": "execute_result"
    }
   ],
   "source": [
    "dat.porcentaje_de_palabras_clave.to_list()"
   ]
  },
  {
   "cell_type": "code",
   "execution_count": null,
   "id": "c291d6bb",
   "metadata": {},
   "outputs": [],
   "source": []
  },
  {
   "cell_type": "code",
   "execution_count": 165,
   "id": "44c955e3",
   "metadata": {},
   "outputs": [
    {
     "name": "stderr",
     "output_type": "stream",
     "text": [
      "/var/folders/pj/k39rkm7n70zfpx2h1pd48nyh0000gn/T/ipykernel_29922/3429323249.py:3: FutureWarning: The default value of regex will change from True to False in a future version. In addition, single character regular expressions will *not* be treated as literal strings when regex=True.\n",
      "  dat.loc[:,'principales_palabras_clave']=dat.principales_palabras_clave.str.replace(r'\\s+', ' ',regex=True).astype(str).str.replace('.','')\n"
     ]
    },
    {
     "data": {
      "text/html": [
       "<div>\n",
       "<style scoped>\n",
       "    .dataframe tbody tr th:only-of-type {\n",
       "        vertical-align: middle;\n",
       "    }\n",
       "\n",
       "    .dataframe tbody tr th {\n",
       "        vertical-align: top;\n",
       "    }\n",
       "\n",
       "    .dataframe thead th {\n",
       "        text-align: right;\n",
       "    }\n",
       "</style>\n",
       "<table border=\"1\" class=\"dataframe\">\n",
       "  <thead>\n",
       "    <tr style=\"text-align: right;\">\n",
       "      <th></th>\n",
       "      <th>level_0</th>\n",
       "      <th>cluster</th>\n",
       "      <th>cantidad_de_palabras_clave</th>\n",
       "      <th>porcentaje_de_palabras_clave</th>\n",
       "      <th>principales_palabras_clave</th>\n",
       "    </tr>\n",
       "  </thead>\n",
       "  <tbody>\n",
       "    <tr>\n",
       "      <th>0</th>\n",
       "      <td>0</td>\n",
       "      <td>1.0</td>\n",
       "      <td>105.0</td>\n",
       "      <td>15,9 %</td>\n",
       "      <td>maximum power point tracking, fuzzy-logic base...</td>\n",
       "    </tr>\n",
       "    <tr>\n",
       "      <th>1</th>\n",
       "      <td>1</td>\n",
       "      <td>2.0</td>\n",
       "      <td>102.0</td>\n",
       "      <td>15,4 %</td>\n",
       "      <td>support vector machine, long short-term memory...</td>\n",
       "    </tr>\n",
       "    <tr>\n",
       "      <th>2</th>\n",
       "      <td>2</td>\n",
       "      <td>3.0</td>\n",
       "      <td>89.0</td>\n",
       "      <td>13,4 %</td>\n",
       "      <td>smart grid, wind power, reinforcement learning...</td>\n",
       "    </tr>\n",
       "    <tr>\n",
       "      <th>3</th>\n",
       "      <td>3</td>\n",
       "      <td>4.0</td>\n",
       "      <td>60.0</td>\n",
       "      <td>9,1 %</td>\n",
       "      <td>wind turbine, fault diagnosis, biodiesel, fail...</td>\n",
       "    </tr>\n",
       "    <tr>\n",
       "      <th>4</th>\n",
       "      <td>4</td>\n",
       "      <td>5.0</td>\n",
       "      <td>52.0</td>\n",
       "      <td>7,9 %</td>\n",
       "      <td>electric vehicle, lithium-ion batteries, state...</td>\n",
       "    </tr>\n",
       "    <tr>\n",
       "      <th>5</th>\n",
       "      <td>5</td>\n",
       "      <td>6.0</td>\n",
       "      <td>51.0</td>\n",
       "      <td>7,7 %</td>\n",
       "      <td>particle swarm optimization, distribute genera...</td>\n",
       "    </tr>\n",
       "    <tr>\n",
       "      <th>6</th>\n",
       "      <td>6</td>\n",
       "      <td>7.0</td>\n",
       "      <td>42.0</td>\n",
       "      <td>6,3 %</td>\n",
       "      <td>multi-objective optimization, energy storage, ...</td>\n",
       "    </tr>\n",
       "    <tr>\n",
       "      <th>7</th>\n",
       "      <td>7</td>\n",
       "      <td>8.0</td>\n",
       "      <td>38.0</td>\n",
       "      <td>5,7 %</td>\n",
       "      <td>genetic algorithm, demand-side management, ene...</td>\n",
       "    </tr>\n",
       "    <tr>\n",
       "      <th>8</th>\n",
       "      <td>8</td>\n",
       "      <td>9.0</td>\n",
       "      <td>35.0</td>\n",
       "      <td>5,3 %</td>\n",
       "      <td>anfis, global solar irradiance, solar irradian...</td>\n",
       "    </tr>\n",
       "    <tr>\n",
       "      <th>9</th>\n",
       "      <td>9</td>\n",
       "      <td>10.0</td>\n",
       "      <td>27.0</td>\n",
       "      <td>4,1 %</td>\n",
       "      <td>micro grid, multi-agent systems, distributed e...</td>\n",
       "    </tr>\n",
       "    <tr>\n",
       "      <th>10</th>\n",
       "      <td>10</td>\n",
       "      <td>11.0</td>\n",
       "      <td>22.0</td>\n",
       "      <td>3,3 %</td>\n",
       "      <td>hydrogen, biochar, biomass, biogas, microbial ...</td>\n",
       "    </tr>\n",
       "    <tr>\n",
       "      <th>11</th>\n",
       "      <td>11</td>\n",
       "      <td>12.0</td>\n",
       "      <td>22.0</td>\n",
       "      <td>3,3 %</td>\n",
       "      <td>state of charge (soc) estimation, radial basis...</td>\n",
       "    </tr>\n",
       "    <tr>\n",
       "      <th>12</th>\n",
       "      <td>12</td>\n",
       "      <td>13.0</td>\n",
       "      <td>17.0</td>\n",
       "      <td>2,6 %</td>\n",
       "      <td>pem fuel cell, solid-oxide fuel cell, deep-bel...</td>\n",
       "    </tr>\n",
       "  </tbody>\n",
       "</table>\n",
       "</div>"
      ],
      "text/plain": [
       "    level_0  cluster  cantidad_de_palabras_clave porcentaje_de_palabras_clave  \\\n",
       "0         0      1.0                       105.0                       15,9 %   \n",
       "1         1      2.0                       102.0                       15,4 %   \n",
       "2         2      3.0                        89.0                       13,4 %   \n",
       "3         3      4.0                        60.0                        9,1 %   \n",
       "4         4      5.0                        52.0                        7,9 %   \n",
       "5         5      6.0                        51.0                        7,7 %   \n",
       "6         6      7.0                        42.0                        6,3 %   \n",
       "7         7      8.0                        38.0                        5,7 %   \n",
       "8         8      9.0                        35.0                        5,3 %   \n",
       "9         9     10.0                        27.0                        4,1 %   \n",
       "10       10     11.0                        22.0                        3,3 %   \n",
       "11       11     12.0                        22.0                        3,3 %   \n",
       "12       12     13.0                        17.0                        2,6 %   \n",
       "\n",
       "                           principales_palabras_clave  \n",
       "0   maximum power point tracking, fuzzy-logic base...  \n",
       "1   support vector machine, long short-term memory...  \n",
       "2   smart grid, wind power, reinforcement learning...  \n",
       "3   wind turbine, fault diagnosis, biodiesel, fail...  \n",
       "4   electric vehicle, lithium-ion batteries, state...  \n",
       "5   particle swarm optimization, distribute genera...  \n",
       "6   multi-objective optimization, energy storage, ...  \n",
       "7   genetic algorithm, demand-side management, ene...  \n",
       "8   anfis, global solar irradiance, solar irradian...  \n",
       "9   micro grid, multi-agent systems, distributed e...  \n",
       "10  hydrogen, biochar, biomass, biogas, microbial ...  \n",
       "11  state of charge (soc) estimation, radial basis...  \n",
       "12  pem fuel cell, solid-oxide fuel cell, deep-bel...  "
      ]
     },
     "execution_count": 165,
     "metadata": {},
     "output_type": "execute_result"
    }
   ],
   "source": [
    "dat.loc[:,'principales_palabras_clave']=dat.fillna(method='ffill').groupby('cluster')['principales_palabras_clave'].transform(lambda x: ' '.join(x))\n",
    "dat=dat.dropna().reset_index()\n",
    "dat.loc[:,'principales_palabras_clave']=dat.principales_palabras_clave.str.replace(r'\\s+', ' ',regex=True).astype(str).str.replace('.','')\n",
    "dat.drop(columns='index')"
   ]
  },
  {
   "cell_type": "code",
   "execution_count": 135,
   "id": "b2576264",
   "metadata": {},
   "outputs": [],
   "source": [
    "+dat=dat.dropna().reset_index()\n",
    "dat.loc[:,'principales_palabras_clave']=dat.principales_palabras_clave.replace(r'\\s+', ' ', regex=True).str.replace('.','')\n",
    "dat.drop(columns='index')"
   ]
  },
  {
   "cell_type": "code",
   "execution_count": 142,
   "id": "8bf1d357",
   "metadata": {},
   "outputs": [
    {
     "name": "stderr",
     "output_type": "stream",
     "text": [
      "/var/folders/pj/k39rkm7n70zfpx2h1pd48nyh0000gn/T/ipykernel_29922/140933068.py:1: FutureWarning: The default value of regex will change from True to False in a future version. In addition, single character regular expressions will *not* be treated as literal strings when regex=True.\n",
      "  dat.loc[:,'principales_palabras_clave']=dat.principales_palabras_clave.replace(r'\\s+', ' ', regex=True).str.replace('.','')\n"
     ]
    }
   ],
   "source": []
  },
  {
   "cell_type": "code",
   "execution_count": 146,
   "id": "30943742",
   "metadata": {},
   "outputs": [
    {
     "data": {
      "text/html": [
       "<div>\n",
       "<style scoped>\n",
       "    .dataframe tbody tr th:only-of-type {\n",
       "        vertical-align: middle;\n",
       "    }\n",
       "\n",
       "    .dataframe tbody tr th {\n",
       "        vertical-align: top;\n",
       "    }\n",
       "\n",
       "    .dataframe thead th {\n",
       "        text-align: right;\n",
       "    }\n",
       "</style>\n",
       "<table border=\"1\" class=\"dataframe\">\n",
       "  <thead>\n",
       "    <tr style=\"text-align: right;\">\n",
       "      <th></th>\n",
       "      <th>cluster</th>\n",
       "      <th>cantidad_de_palabras_clave</th>\n",
       "      <th>porcentaje_de_palabras_clave</th>\n",
       "      <th>principales_palabras_clave</th>\n",
       "    </tr>\n",
       "  </thead>\n",
       "  <tbody>\n",
       "    <tr>\n",
       "      <th>0</th>\n",
       "      <td>1.0</td>\n",
       "      <td>105.0</td>\n",
       "      <td>15,9 %</td>\n",
       "      <td>maximum power point tracking, fuzzy-logic base...</td>\n",
       "    </tr>\n",
       "    <tr>\n",
       "      <th>1</th>\n",
       "      <td>2.0</td>\n",
       "      <td>102.0</td>\n",
       "      <td>15,4 %</td>\n",
       "      <td>support vector machine, long short-term memory...</td>\n",
       "    </tr>\n",
       "    <tr>\n",
       "      <th>2</th>\n",
       "      <td>3.0</td>\n",
       "      <td>89.0</td>\n",
       "      <td>13,4 %</td>\n",
       "      <td>smart grid, wind power, reinforcement learning...</td>\n",
       "    </tr>\n",
       "    <tr>\n",
       "      <th>3</th>\n",
       "      <td>4.0</td>\n",
       "      <td>60.0</td>\n",
       "      <td>9,1 %</td>\n",
       "      <td>wind turbine, fault diagnosis, biodiesel, fail...</td>\n",
       "    </tr>\n",
       "    <tr>\n",
       "      <th>4</th>\n",
       "      <td>5.0</td>\n",
       "      <td>52.0</td>\n",
       "      <td>7,9 %</td>\n",
       "      <td>electric vehicle, lithium-ion batteries, state...</td>\n",
       "    </tr>\n",
       "    <tr>\n",
       "      <th>5</th>\n",
       "      <td>6.0</td>\n",
       "      <td>51.0</td>\n",
       "      <td>7,7 %</td>\n",
       "      <td>particle swarm optimization, distribute genera...</td>\n",
       "    </tr>\n",
       "    <tr>\n",
       "      <th>6</th>\n",
       "      <td>7.0</td>\n",
       "      <td>42.0</td>\n",
       "      <td>6,3 %</td>\n",
       "      <td>multi-objective optimization, energy storage, ...</td>\n",
       "    </tr>\n",
       "    <tr>\n",
       "      <th>7</th>\n",
       "      <td>8.0</td>\n",
       "      <td>38.0</td>\n",
       "      <td>5,7 %</td>\n",
       "      <td>genetic algorithm, demand-side management, ene...</td>\n",
       "    </tr>\n",
       "    <tr>\n",
       "      <th>8</th>\n",
       "      <td>9.0</td>\n",
       "      <td>35.0</td>\n",
       "      <td>5,3 %</td>\n",
       "      <td>anfis, global solar irradiance, solar irradian...</td>\n",
       "    </tr>\n",
       "    <tr>\n",
       "      <th>9</th>\n",
       "      <td>10.0</td>\n",
       "      <td>27.0</td>\n",
       "      <td>4,1 %</td>\n",
       "      <td>micro grid, multi-agent systems, distributed e...</td>\n",
       "    </tr>\n",
       "    <tr>\n",
       "      <th>10</th>\n",
       "      <td>11.0</td>\n",
       "      <td>22.0</td>\n",
       "      <td>3,3 %</td>\n",
       "      <td>hydrogen, biochar, biomass, biogas, microbial ...</td>\n",
       "    </tr>\n",
       "    <tr>\n",
       "      <th>11</th>\n",
       "      <td>12.0</td>\n",
       "      <td>22.0</td>\n",
       "      <td>3,3 %</td>\n",
       "      <td>state of charge (soc) estimation, radial basis...</td>\n",
       "    </tr>\n",
       "    <tr>\n",
       "      <th>12</th>\n",
       "      <td>13.0</td>\n",
       "      <td>17.0</td>\n",
       "      <td>2,6 %</td>\n",
       "      <td>pem fuel cell, solid-oxide fuel cell, deep-bel...</td>\n",
       "    </tr>\n",
       "  </tbody>\n",
       "</table>\n",
       "</div>"
      ],
      "text/plain": [
       "    cluster  cantidad_de_palabras_clave porcentaje_de_palabras_clave  \\\n",
       "0       1.0                       105.0                       15,9 %   \n",
       "1       2.0                       102.0                       15,4 %   \n",
       "2       3.0                        89.0                       13,4 %   \n",
       "3       4.0                        60.0                        9,1 %   \n",
       "4       5.0                        52.0                        7,9 %   \n",
       "5       6.0                        51.0                        7,7 %   \n",
       "6       7.0                        42.0                        6,3 %   \n",
       "7       8.0                        38.0                        5,7 %   \n",
       "8       9.0                        35.0                        5,3 %   \n",
       "9      10.0                        27.0                        4,1 %   \n",
       "10     11.0                        22.0                        3,3 %   \n",
       "11     12.0                        22.0                        3,3 %   \n",
       "12     13.0                        17.0                        2,6 %   \n",
       "\n",
       "                           principales_palabras_clave  \n",
       "0   maximum power point tracking, fuzzy-logic base...  \n",
       "1   support vector machine, long short-term memory...  \n",
       "2   smart grid, wind power, reinforcement learning...  \n",
       "3   wind turbine, fault diagnosis, biodiesel, fail...  \n",
       "4   electric vehicle, lithium-ion batteries, state...  \n",
       "5   particle swarm optimization, distribute genera...  \n",
       "6   multi-objective optimization, energy storage, ...  \n",
       "7   genetic algorithm, demand-side management, ene...  \n",
       "8   anfis, global solar irradiance, solar irradian...  \n",
       "9   micro grid, multi-agent systems, distributed e...  \n",
       "10  hydrogen, biochar, biomass, biogas, microbial ...  \n",
       "11  state of charge (soc) estimation, radial basis...  \n",
       "12  pem fuel cell, solid-oxide fuel cell, deep-bel...  "
      ]
     },
     "execution_count": 146,
     "metadata": {},
     "output_type": "execute_result"
    }
   ],
   "source": [
    "dat.drop(columns='index')"
   ]
  },
  {
   "cell_type": "code",
   "execution_count": null,
   "id": "680f84bf",
   "metadata": {},
   "outputs": [],
   "source": []
  },
  {
   "cell_type": "code",
   "execution_count": 130,
   "id": "a47e750e",
   "metadata": {},
   "outputs": [
    {
     "data": {
      "text/plain": [
       "'maximum power point tracking, fuzzy-logic based control, photo voltaic (pv), photo-voltaic system, differential evolution algorithm, evolutionary algorithm, double-fed induction generator (dfig), ant colony optimisation, photo voltaic array, firefly algorithm, partial shade'"
      ]
     },
     "execution_count": 130,
     "metadata": {},
     "output_type": "execute_result"
    }
   ],
   "source": [
    "\"maximum power point tracking, fuzzy-logic based control, photo voltaic (pv), photo-voltaic system, differential evolution algorithm, evolutionary algorithm, double-fed induction generator (dfig), ant colony optimisation, photo voltaic array, firefly algorithm, partial shade\""
   ]
  },
  {
   "cell_type": "code",
   "execution_count": null,
   "id": "a19b6eb9",
   "metadata": {},
   "outputs": [],
   "source": []
  }
 ],
 "metadata": {
  "kernelspec": {
   "display_name": "Python 3 (ipykernel)",
   "language": "python",
   "name": "python3"
  },
  "language_info": {
   "codemirror_mode": {
    "name": "ipython",
    "version": 3
   },
   "file_extension": ".py",
   "mimetype": "text/x-python",
   "name": "python",
   "nbconvert_exporter": "python",
   "pygments_lexer": "ipython3",
   "version": "3.8.16"
  }
 },
 "nbformat": 4,
 "nbformat_minor": 5
}
